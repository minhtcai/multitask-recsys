{
 "cells": [
  {
   "cell_type": "code",
   "execution_count": 1,
   "id": "f90bfcd6-25a7-4723-83c6-637a66d2b8b9",
   "metadata": {},
   "outputs": [],
   "source": [
    "import os\n",
    "import sys"
   ]
  },
  {
   "cell_type": "code",
   "execution_count": 2,
   "id": "7fb3ff9d-8d86-44eb-8fc3-7f9e96b5036e",
   "metadata": {},
   "outputs": [
    {
     "data": {
      "text/plain": [
       "'/home/andrew/Desktop/CS330/hw0'"
      ]
     },
     "execution_count": 2,
     "metadata": {},
     "output_type": "execute_result"
    }
   ],
   "source": [
    "pwd"
   ]
  },
  {
   "cell_type": "code",
   "execution_count": 3,
   "id": "6c2d813f-9db5-433b-90f9-337f97f395da",
   "metadata": {},
   "outputs": [],
   "source": [
    "# main.py - Run experiment\n",
    "# models.py - Implementing model in Pytorch\n",
    "# multitask.py - Training pipeline"
   ]
  },
  {
   "cell_type": "code",
   "execution_count": 5,
   "id": "2dcb3fe4-7485-419d-99a2-5f0fdaa25e36",
   "metadata": {},
   "outputs": [],
   "source": [
    "#!pip3 install h5py\n",
    "import h5py"
   ]
  },
  {
   "cell_type": "code",
   "execution_count": 6,
   "id": "da12e20c-3eeb-473c-901c-a20e66627c15",
   "metadata": {},
   "outputs": [],
   "source": [
    "dataset = h5py.File('movielens_data/movielens/v0.2.0/movielens_movielens_100K.hdf5', 'r')"
   ]
  },
  {
   "cell_type": "code",
   "execution_count": 7,
   "id": "53d27283-76fd-47a2-9bda-39b2ef6be53c",
   "metadata": {},
   "outputs": [
    {
     "data": {
      "text/plain": [
       "<KeysViewHDF5 ['item_id', 'rating', 'timestamp', 'user_id']>"
      ]
     },
     "execution_count": 7,
     "metadata": {},
     "output_type": "execute_result"
    }
   ],
   "source": [
    "dataset.keys()"
   ]
  },
  {
   "cell_type": "code",
   "execution_count": 12,
   "id": "ea3b18c7-269f-4ff0-a277-bfc9d7f5cc57",
   "metadata": {},
   "outputs": [],
   "source": [
    "grid = dataset['item_id']"
   ]
  },
  {
   "cell_type": "code",
   "execution_count": 14,
   "id": "2e8ca0aa-4847-48aa-a2bf-d73c54ac2a16",
   "metadata": {},
   "outputs": [
    {
     "data": {
      "text/plain": [
       "h5py._hl.dataset.Dataset"
      ]
     },
     "execution_count": 14,
     "metadata": {},
     "output_type": "execute_result"
    }
   ],
   "source": [
    "type(grid)"
   ]
  },
  {
   "cell_type": "code",
   "execution_count": 20,
   "id": "30f00f3e-2cea-489c-9dc0-90ab11ba7fc4",
   "metadata": {},
   "outputs": [
    {
     "data": {
      "text/plain": [
       "<HDF5 dataset \"item_id\": shape (100000,), type \"<i4\">"
      ]
     },
     "execution_count": 20,
     "metadata": {},
     "output_type": "execute_result"
    }
   ],
   "source": [
    "grid"
   ]
  },
  {
   "cell_type": "code",
   "execution_count": 23,
   "id": "4a297c2c-0a21-472a-a94b-6c32f41b04cd",
   "metadata": {},
   "outputs": [
    {
     "name": "stdout",
     "output_type": "stream",
     "text": [
      "Keys: <KeysViewHDF5 ['item_id', 'rating', 'timestamp', 'user_id']>\n"
     ]
    }
   ],
   "source": [
    "import h5py\n",
    "filename = 'movielens_data/movielens/v0.2.0/movielens_movielens_100K.hdf5'\n",
    "\n",
    "with h5py.File(filename, \"r\") as f:\n",
    "    # List all groups\n",
    "    print(\"Keys: %s\" % f.keys())\n",
    "    a_group_key = list(f.keys())[0]\n",
    "\n",
    "    # Get the data\n",
    "    data = list(f[a_group_key])"
   ]
  },
  {
   "cell_type": "code",
   "execution_count": 29,
   "id": "e40d8474-8c31-428b-9291-848725c5a668",
   "metadata": {},
   "outputs": [],
   "source": [
    "list(grid);"
   ]
  },
  {
   "cell_type": "code",
   "execution_count": 34,
   "id": "ec487e92-89c4-4ba4-a264-90dcf7f15a27",
   "metadata": {},
   "outputs": [],
   "source": [
    "list(dataset['rating']);"
   ]
  },
  {
   "cell_type": "code",
   "execution_count": null,
   "id": "cbd38852-1368-42ed-b133-011214c1dec6",
   "metadata": {},
   "outputs": [],
   "source": []
  }
 ],
 "metadata": {
  "kernelspec": {
   "display_name": "Python 3 (ipykernel)",
   "language": "python",
   "name": "python3"
  },
  "language_info": {
   "codemirror_mode": {
    "name": "ipython",
    "version": 3
   },
   "file_extension": ".py",
   "mimetype": "text/x-python",
   "name": "python",
   "nbconvert_exporter": "python",
   "pygments_lexer": "ipython3",
   "version": "3.8.10"
  }
 },
 "nbformat": 4,
 "nbformat_minor": 5
}
